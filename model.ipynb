{
 "cells": [
  {
   "cell_type": "markdown",
   "id": "98c453df",
   "metadata": {},
   "source": [
    "## Chargement des données"
   ]
  },
  {
   "cell_type": "code",
   "execution_count": null,
   "id": "17f875ef",
   "metadata": {},
   "outputs": [],
   "source": [
    "import pandas as pd\n",
    "# On charge le fichier csv qui se trouve dans un sous-dossier 'data'\n",
    "data = pd.read_csv(\"./data/GlobalTemperatures.csv\")\n",
    "# On charge les températures moyennes (terre et océan confondus) dans une série de données Pandas,\n",
    "# à partir de la 1300ème ligne (il n'y a aucune donnée avant cela).\n",
    "# On réalise aussi une interpolation pour remplir automatiquement certaines valeurs manquantes\n",
    "temperature = data[\"LandAndOceanAverageTemperature\"].interpolate(limit_direction=\"backward\")[1300:]\n",
    "dates = pd.to_datetime(data[\"dt\"])[1300:]"
   ]
  },
  {
   "cell_type": "markdown",
   "id": "9e3179b9",
   "metadata": {},
   "source": [
    "### Stationnarisation"
   ]
  },
  {
   "cell_type": "code",
   "execution_count": null,
   "id": "e2a6c5e9",
   "metadata": {},
   "outputs": [],
   "source": [
    "from statsmodels.tsa.stattools import adfuller\n",
    "\n",
    "def make_stationary(time_series):\n",
    "    \"\"\"\n",
    "    Makes a time series stationary while the p-value computed using the ADF test is higher than 0.05\n",
    "    \"\"\"\n",
    "    test_results = adfuller(time_series)\n",
    "    p_value = test_results[1]\n",
    "    if p_value > 0.05: # i.e. if the data is not stationary\n",
    "        # Differentiating until the p-value goes under 0.05\n",
    "        diff_data = time_series.copy()\n",
    "        for degree in range(1, 10):\n",
    "            diff_data = diff_data.diff().dropna()\n",
    "            if adfuller(diff_data)[1] <= 0.05:\n",
    "                return diff_data, degree\n",
    "        \n",
    "        raise ValueError(f\"Unable to stationarize data after diferentiating {degree} times\")\n",
    "    return time_series\n",
    "\n",
    "_, diff_degree = make_stationary(temperature)\n",
    "print(f\"Degrees of differentiating: {diff_degree}\")"
   ]
  },
  {
   "cell_type": "markdown",
   "id": "05c8e6fe",
   "metadata": {},
   "source": [
    "### Préparation des datasets d'entraînement et de test, recherche des meilleurs hyperparamètres pour ARIMA"
   ]
  },
  {
   "cell_type": "code",
   "execution_count": null,
   "id": "b252bab6",
   "metadata": {},
   "outputs": [],
   "source": [
    "from pmdarima.model_selection import train_test_split\n",
    "\n",
    "# On commence par séparer nos jeux d'entraînement et de test\n",
    "training_samples_count = int(len(dates) * 0.9)\n",
    "train, test = train_test_split(temperature, train_size=training_samples_count)\n",
    "train_dates, future_dates = train_test_split(dates, train_size=training_samples_count)"
   ]
  },
  {
   "cell_type": "code",
   "execution_count": null,
   "id": "e161cbca",
   "metadata": {},
   "outputs": [],
   "source": [
    "# Recherche des meilleurs paramètres pour notre ARIMA\n",
    "# Comme nous avons déjà déterminé que notre degré de différenciation\n",
    "# est de 1, nous pouvons le préciser à auto_arima pour gagner du temps\n",
    "# d'exécution\n",
    "from pmdarima import auto_arima\n",
    "# On choisit une valeur de 12 pour la saisonnalité car nos données\n",
    "# sont des moyennes mensuelles\n",
    "best_model = auto_arima(train, d=1, seasonal=True, m=12, stepwise=False, n_jobs=-1, trace=True)\n",
    "print(best_model)"
   ]
  },
  {
   "cell_type": "markdown",
   "id": "28675716",
   "metadata": {},
   "source": [
    "### Entraînement"
   ]
  },
  {
   "cell_type": "code",
   "execution_count": null,
   "id": "3dab863c",
   "metadata": {},
   "outputs": [],
   "source": [
    "from pmdarima.arima import ARIMA\n",
    "\n",
    "# On instancie notre modèle avec les hyperparamètres définis plus tôt\n",
    "model = ARIMA(\n",
    "    order=(1, 1, 1),\n",
    "    seasonal_order=(2, 0, 1, 12)\n",
    "               )\n",
    "model.fit(train)\n",
    "\n",
    "predictions_count = len(test)\n",
    "# On réalise des prédictions à comparer avec les valeurs de test\n",
    "forecast, confidence_intervals = model.predict(predictions_count, return_conf_int=True) \n"
   ]
  },
  {
   "cell_type": "markdown",
   "id": "d456aaca",
   "metadata": {},
   "source": [
    "### Visualisation des résultats"
   ]
  },
  {
   "cell_type": "code",
   "execution_count": null,
   "id": "f6ab0e48",
   "metadata": {},
   "outputs": [],
   "source": [
    "# Adding confidence intervals\n",
    "ci_dict = {\n",
    "    \"low\": confidence_intervals[:, 0],\n",
    "    \"high\": confidence_intervals[:, 1]\n",
    "}\n",
    "confidence_intervals_df = pd.DataFrame(ci_dict)\n",
    "confidence_intervals_df.index = future_dates"
   ]
  },
  {
   "cell_type": "code",
   "execution_count": null,
   "id": "0c1e899d",
   "metadata": {},
   "outputs": [],
   "source": [
    "import matplotlib.pyplot as plt\n",
    "import numpy as np\n",
    "\n",
    "x = np.arange(len(train_dates) + len(future_dates))\n",
    "trend = np.polyfit(x, pd.concat([train, forecast]), 1)\n",
    "\n",
    "\n",
    "trendpoly = np.poly1d(trend)\n",
    "plt.plot(dates, temperature, c='blue')\n",
    "plt.plot(future_dates, forecast, c='green')\n",
    "plt.plot(dates, trendpoly(x), c=\"red\")\n",
    "plt.fill_between(confidence_intervals_df.index, confidence_intervals_df['low'], confidence_intervals_df['high'], alpha=0.9, color='orange', label=\"Confidence intervals\")\n",
    "plt.gcf().autofmt_xdate()\n",
    "plt.show()"
   ]
  },
  {
   "cell_type": "code",
   "execution_count": null,
   "id": "a7ef3460",
   "metadata": {},
   "outputs": [],
   "source": [
    "import matplotlib.pyplot as plt\n",
    "import numpy as np\n",
    "\n",
    "\n",
    "plt.figure(figsize=(15,8))\n",
    "\n",
    "\n",
    "\n",
    "# Computing yearly average in order to increase readibility\n",
    "temperature.index = dates\n",
    "yearly_temperature = temperature.rolling(window=12, step=12, center=False).mean().dropna()\n",
    "\n",
    "train.index = train_dates\n",
    "yearly_train = train.rolling(window=12, step=12, center=False).mean().dropna()\n",
    "\n",
    "forecast.index = future_dates\n",
    "yearly_forecast = forecast.rolling(window=12, step=12, center=False).mean().dropna()\n",
    "\n",
    "train_and_forecast = pd.concat([yearly_train, yearly_forecast])\n",
    "x = np.arange(len(train_and_forecast))\n",
    "trend = np.polyfit(x, train_and_forecast, 1)\n",
    "trendpoly = np.poly1d(trend)\n",
    "\n",
    "yearly_train_dates = pd.Series(yearly_train.index)\n",
    "yearly_forecast_dates = pd.Series(yearly_forecast.index)\n",
    "all_dates = pd.concat([yearly_train_dates, yearly_forecast_dates])\n",
    "\n",
    "yearly_confidence_intervals_df = confidence_intervals_df.rolling(window=12, step=12, center=False).mean().dropna()\n",
    "\n",
    "plt.plot(yearly_temperature, c='blue', label='Températures annuelles réelles')\n",
    "plt.plot(yearly_forecast_dates, yearly_forecast.values, c='green', label='Températures annuelles prédites')\n",
    "#plt.plot(train_and_forecast.index, trendpoly(x), c=\"red\", label='Forecast trend')\n",
    "plt.fill_between(yearly_confidence_intervals_df.index, yearly_confidence_intervals_df['low'], yearly_confidence_intervals_df['high'], alpha=0.9, color='orange', label=\"Intervalles de confiance\")\n",
    "plt.legend(loc='upper left')\n",
    "plt.gcf().autofmt_xdate()\n"
   ]
  },
  {
   "cell_type": "markdown",
   "id": "1b384a68",
   "metadata": {},
   "source": [
    "### Calcul de la RMSE"
   ]
  },
  {
   "cell_type": "code",
   "execution_count": null,
   "id": "d944e754",
   "metadata": {},
   "outputs": [],
   "source": [
    "# Calcul de la RMSE\n",
    "import math\n",
    "from sklearn.metrics import mean_squared_error\n",
    "\n",
    "def rmse(true_values, predicted_values):\n",
    "    \"\"\"\n",
    "    Computes the Root Mean-Squared Error of the predicted values with regards to the actual values.\n",
    "    \"\"\"\n",
    "    return math.sqrt(mean_squared_error(true_values, predicted_values))\n",
    "\n",
    "# Exemple avec nos prédictions :\n",
    "print(f\"RMSE : {rmse(test, forecast)}\")\n"
   ]
  }
 ],
 "metadata": {
  "kernelspec": {
   "display_name": "Python 3 (ipykernel)",
   "language": "python",
   "name": "python3"
  },
  "language_info": {
   "codemirror_mode": {
    "name": "ipython",
    "version": 3
   },
   "file_extension": ".py",
   "mimetype": "text/x-python",
   "name": "python",
   "nbconvert_exporter": "python",
   "pygments_lexer": "ipython3",
   "version": "3.10.12"
  }
 },
 "nbformat": 4,
 "nbformat_minor": 5
}
